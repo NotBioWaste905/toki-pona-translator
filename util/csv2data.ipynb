{
 "cells": [
  {
   "cell_type": "code",
   "execution_count": 1,
   "metadata": {},
   "outputs": [],
   "source": [
    "import json\n",
    "import pandas as pd"
   ]
  },
  {
   "cell_type": "code",
   "execution_count": 6,
   "metadata": {},
   "outputs": [],
   "source": [
    "csv_data = pd.read_csv(\"C:/Users/andru/Documents/GitHub/toki-pona-translator/corpora/eng_tok.csv\")"
   ]
  },
  {
   "cell_type": "code",
   "execution_count": 10,
   "metadata": {},
   "outputs": [
    {
     "data": {
      "text/html": [
       "<div>\n",
       "<style scoped>\n",
       "    .dataframe tbody tr th:only-of-type {\n",
       "        vertical-align: middle;\n",
       "    }\n",
       "\n",
       "    .dataframe tbody tr th {\n",
       "        vertical-align: top;\n",
       "    }\n",
       "\n",
       "    .dataframe thead th {\n",
       "        text-align: right;\n",
       "    }\n",
       "</style>\n",
       "<table border=\"1\" class=\"dataframe\">\n",
       "  <thead>\n",
       "    <tr style=\"text-align: right;\">\n",
       "      <th></th>\n",
       "      <th>Unnamed: 0</th>\n",
       "      <th>eng</th>\n",
       "      <th>tok</th>\n",
       "    </tr>\n",
       "  </thead>\n",
       "  <tbody>\n",
       "    <tr>\n",
       "      <th>0</th>\n",
       "      <td>0</td>\n",
       "      <td>the story of king frost</td>\n",
       "      <td>jan lawa lete</td>\n",
       "    </tr>\n",
       "    <tr>\n",
       "      <th>1</th>\n",
       "      <td>1</td>\n",
       "      <td>andrew lang</td>\n",
       "      <td>jan mali</td>\n",
       "    </tr>\n",
       "    <tr>\n",
       "      <th>2</th>\n",
       "      <td>2</td>\n",
       "      <td>there was once upon a time a peasantwoman who ...</td>\n",
       "      <td>meli ike pi mani ala li jo e meli lili tu</td>\n",
       "    </tr>\n",
       "    <tr>\n",
       "      <th>3</th>\n",
       "      <td>3</td>\n",
       "      <td>the daughter had her own way in everything</td>\n",
       "      <td>ona li pana e ijo mute tawa meli lili ona</td>\n",
       "    </tr>\n",
       "    <tr>\n",
       "      <th>4</th>\n",
       "      <td>4</td>\n",
       "      <td>and whatever she did was right in her mother’s...</td>\n",
       "      <td>taso ona li pana e ike taso tawa meli lili pi ...</td>\n",
       "    </tr>\n",
       "  </tbody>\n",
       "</table>\n",
       "</div>"
      ],
      "text/plain": [
       "   Unnamed: 0                                                eng  \\\n",
       "0           0                            the story of king frost   \n",
       "1           1                                        andrew lang   \n",
       "2           2  there was once upon a time a peasantwoman who ...   \n",
       "3           3         the daughter had her own way in everything   \n",
       "4           4  and whatever she did was right in her mother’s...   \n",
       "\n",
       "                                                 tok  \n",
       "0                                      jan lawa lete  \n",
       "1                                           jan mali  \n",
       "2          meli ike pi mani ala li jo e meli lili tu  \n",
       "3          ona li pana e ijo mute tawa meli lili ona  \n",
       "4  taso ona li pana e ike taso tawa meli lili pi ...  "
      ]
     },
     "execution_count": 10,
     "metadata": {},
     "output_type": "execute_result"
    }
   ],
   "source": [
    "csv_data.head()"
   ]
  },
  {
   "cell_type": "code",
   "execution_count": 19,
   "metadata": {},
   "outputs": [],
   "source": [
    "json_data = {}\n",
    "data = {\"train\": []}\n",
    "with open(\"C:/Users/andru/Documents/GitHub/toki-pona-translator/corpora/eng_tok.json\", 'w', encoding=\"utf-8\") as f:\n",
    "    for line in zip(csv_data[\"Unnamed: 0\"], csv_data[\"eng\"], csv_data[\"tok\"]):\n",
    "        json_data = {\"id\": line[0], \"translation\": {'en': line[1], 'tok': line[2]}}\n",
    "        data[\"train\"].append(json_data)\n",
    "    f.write(json.dumps(data,ensure_ascii=False, indent=2))"
   ]
  }
 ],
 "metadata": {
  "kernelspec": {
   "display_name": "Python 3",
   "language": "python",
   "name": "python3"
  },
  "language_info": {
   "codemirror_mode": {
    "name": "ipython",
    "version": 3
   },
   "file_extension": ".py",
   "mimetype": "text/x-python",
   "name": "python",
   "nbconvert_exporter": "python",
   "pygments_lexer": "ipython3",
   "version": "3.10.6"
  },
  "orig_nbformat": 4
 },
 "nbformat": 4,
 "nbformat_minor": 2
}
