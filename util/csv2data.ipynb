{
 "cells": [
  {
   "cell_type": "code",
   "execution_count": 1,
   "metadata": {},
   "outputs": [],
   "source": [
    "import json\n",
    "import pandas as pd"
   ]
  },
  {
   "cell_type": "code",
   "execution_count": 18,
   "metadata": {},
   "outputs": [],
   "source": [
    "csv_data1 = pd.read_csv(\"../corpora/eng_tok.csv\", index_col=[\"Unnamed: 0\"])\n",
    "csv_data2 = pd.read_csv(\"../corpora/new_corpora.tsv\", delimiter=\"\\t\")"
   ]
  },
  {
   "cell_type": "code",
   "execution_count": 19,
   "metadata": {},
   "outputs": [
    {
     "data": {
      "text/html": [
       "<div>\n",
       "<style scoped>\n",
       "    .dataframe tbody tr th:only-of-type {\n",
       "        vertical-align: middle;\n",
       "    }\n",
       "\n",
       "    .dataframe tbody tr th {\n",
       "        vertical-align: top;\n",
       "    }\n",
       "\n",
       "    .dataframe thead th {\n",
       "        text-align: right;\n",
       "    }\n",
       "</style>\n",
       "<table border=\"1\" class=\"dataframe\">\n",
       "  <thead>\n",
       "    <tr style=\"text-align: right;\">\n",
       "      <th></th>\n",
       "      <th>eng</th>\n",
       "      <th>tok</th>\n",
       "    </tr>\n",
       "  </thead>\n",
       "  <tbody>\n",
       "    <tr>\n",
       "      <th>0</th>\n",
       "      <td>the story of king frost</td>\n",
       "      <td>jan lawa lete</td>\n",
       "    </tr>\n",
       "    <tr>\n",
       "      <th>1</th>\n",
       "      <td>andrew lang</td>\n",
       "      <td>jan mali</td>\n",
       "    </tr>\n",
       "    <tr>\n",
       "      <th>2</th>\n",
       "      <td>there was once upon a time a peasantwoman who ...</td>\n",
       "      <td>meli ike pi mani ala li jo e meli lili tu</td>\n",
       "    </tr>\n",
       "    <tr>\n",
       "      <th>3</th>\n",
       "      <td>the daughter had her own way in everything</td>\n",
       "      <td>ona li pana e ijo mute tawa meli lili ona</td>\n",
       "    </tr>\n",
       "    <tr>\n",
       "      <th>4</th>\n",
       "      <td>and whatever she did was right in her mother’s...</td>\n",
       "      <td>taso ona li pana e ike taso tawa meli lili pi ...</td>\n",
       "    </tr>\n",
       "  </tbody>\n",
       "</table>\n",
       "</div>"
      ],
      "text/plain": [
       "                                                 eng  \\\n",
       "0                            the story of king frost   \n",
       "1                                        andrew lang   \n",
       "2  there was once upon a time a peasantwoman who ...   \n",
       "3         the daughter had her own way in everything   \n",
       "4  and whatever she did was right in her mother’s...   \n",
       "\n",
       "                                                 tok  \n",
       "0                                      jan lawa lete  \n",
       "1                                           jan mali  \n",
       "2          meli ike pi mani ala li jo e meli lili tu  \n",
       "3          ona li pana e ijo mute tawa meli lili ona  \n",
       "4  taso ona li pana e ike taso tawa meli lili pi ...  "
      ]
     },
     "execution_count": 19,
     "metadata": {},
     "output_type": "execute_result"
    }
   ],
   "source": [
    "csv_data1.head()"
   ]
  },
  {
   "cell_type": "code",
   "execution_count": 20,
   "metadata": {},
   "outputs": [
    {
     "data": {
      "text/html": [
       "<div>\n",
       "<style scoped>\n",
       "    .dataframe tbody tr th:only-of-type {\n",
       "        vertical-align: middle;\n",
       "    }\n",
       "\n",
       "    .dataframe tbody tr th {\n",
       "        vertical-align: top;\n",
       "    }\n",
       "\n",
       "    .dataframe thead th {\n",
       "        text-align: right;\n",
       "    }\n",
       "</style>\n",
       "<table border=\"1\" class=\"dataframe\">\n",
       "  <thead>\n",
       "    <tr style=\"text-align: right;\">\n",
       "      <th></th>\n",
       "      <th>tok_id</th>\n",
       "      <th>tok</th>\n",
       "      <th>eng_id</th>\n",
       "      <th>eng</th>\n",
       "    </tr>\n",
       "  </thead>\n",
       "  <tbody>\n",
       "    <tr>\n",
       "      <th>0</th>\n",
       "      <td>614700</td>\n",
       "      <td>mi suli.</td>\n",
       "      <td>436275</td>\n",
       "      <td>I am tall.</td>\n",
       "    </tr>\n",
       "    <tr>\n",
       "      <th>1</th>\n",
       "      <td>614700</td>\n",
       "      <td>mi suli.</td>\n",
       "      <td>1120813</td>\n",
       "      <td>I'm important.</td>\n",
       "    </tr>\n",
       "    <tr>\n",
       "      <th>2</th>\n",
       "      <td>614700</td>\n",
       "      <td>mi suli.</td>\n",
       "      <td>1120816</td>\n",
       "      <td>I'm fat.</td>\n",
       "    </tr>\n",
       "    <tr>\n",
       "      <th>3</th>\n",
       "      <td>614700</td>\n",
       "      <td>mi suli.</td>\n",
       "      <td>1349767</td>\n",
       "      <td>I'm big.</td>\n",
       "    </tr>\n",
       "    <tr>\n",
       "      <th>4</th>\n",
       "      <td>614702</td>\n",
       "      <td>kili li tawa anpa poka kasi.</td>\n",
       "      <td>611122</td>\n",
       "      <td>The apple does not fall far from the tree.</td>\n",
       "    </tr>\n",
       "  </tbody>\n",
       "</table>\n",
       "</div>"
      ],
      "text/plain": [
       "   tok_id                           tok   eng_id  \\\n",
       "0  614700                      mi suli.   436275   \n",
       "1  614700                      mi suli.  1120813   \n",
       "2  614700                      mi suli.  1120816   \n",
       "3  614700                      mi suli.  1349767   \n",
       "4  614702  kili li tawa anpa poka kasi.   611122   \n",
       "\n",
       "                                          eng  \n",
       "0                                  I am tall.  \n",
       "1                              I'm important.  \n",
       "2                                    I'm fat.  \n",
       "3                                    I'm big.  \n",
       "4  The apple does not fall far from the tree.  "
      ]
     },
     "execution_count": 20,
     "metadata": {},
     "output_type": "execute_result"
    }
   ],
   "source": [
    "csv_data2.head()"
   ]
  },
  {
   "cell_type": "code",
   "execution_count": 21,
   "metadata": {},
   "outputs": [],
   "source": [
    "csv_data2 = csv_data2.drop('tok_id', axis=1)\n",
    "csv_data2 = csv_data2.drop('eng_id', axis=1)"
   ]
  },
  {
   "cell_type": "code",
   "execution_count": 24,
   "metadata": {},
   "outputs": [
    {
     "data": {
      "text/plain": [
       "(27279, 2)"
      ]
     },
     "execution_count": 24,
     "metadata": {},
     "output_type": "execute_result"
    }
   ],
   "source": [
    "csv_data2.shape"
   ]
  },
  {
   "cell_type": "code",
   "execution_count": 26,
   "metadata": {},
   "outputs": [
    {
     "name": "stdout",
     "output_type": "stream",
     "text": [
      "(28619, 2)\n"
     ]
    },
    {
     "data": {
      "text/html": [
       "<div>\n",
       "<style scoped>\n",
       "    .dataframe tbody tr th:only-of-type {\n",
       "        vertical-align: middle;\n",
       "    }\n",
       "\n",
       "    .dataframe tbody tr th {\n",
       "        vertical-align: top;\n",
       "    }\n",
       "\n",
       "    .dataframe thead th {\n",
       "        text-align: right;\n",
       "    }\n",
       "</style>\n",
       "<table border=\"1\" class=\"dataframe\">\n",
       "  <thead>\n",
       "    <tr style=\"text-align: right;\">\n",
       "      <th></th>\n",
       "      <th>tok</th>\n",
       "      <th>eng</th>\n",
       "    </tr>\n",
       "  </thead>\n",
       "  <tbody>\n",
       "    <tr>\n",
       "      <th>0</th>\n",
       "      <td>mi suli.</td>\n",
       "      <td>I am tall.</td>\n",
       "    </tr>\n",
       "    <tr>\n",
       "      <th>1</th>\n",
       "      <td>mi suli.</td>\n",
       "      <td>I'm important.</td>\n",
       "    </tr>\n",
       "    <tr>\n",
       "      <th>2</th>\n",
       "      <td>mi suli.</td>\n",
       "      <td>I'm fat.</td>\n",
       "    </tr>\n",
       "    <tr>\n",
       "      <th>3</th>\n",
       "      <td>mi suli.</td>\n",
       "      <td>I'm big.</td>\n",
       "    </tr>\n",
       "    <tr>\n",
       "      <th>4</th>\n",
       "      <td>kili li tawa anpa poka kasi.</td>\n",
       "      <td>The apple does not fall far from the tree.</td>\n",
       "    </tr>\n",
       "  </tbody>\n",
       "</table>\n",
       "</div>"
      ],
      "text/plain": [
       "                            tok                                         eng\n",
       "0                      mi suli.                                  I am tall.\n",
       "1                      mi suli.                              I'm important.\n",
       "2                      mi suli.                                    I'm fat.\n",
       "3                      mi suli.                                    I'm big.\n",
       "4  kili li tawa anpa poka kasi.  The apple does not fall far from the tree."
      ]
     },
     "execution_count": 26,
     "metadata": {},
     "output_type": "execute_result"
    }
   ],
   "source": [
    "csv_combined = pd.concat([csv_data2, csv_data1], axis=0)\n",
    "print(csv_combined.shape)\n",
    "csv_combined.head()"
   ]
  },
  {
   "cell_type": "code",
   "execution_count": 28,
   "metadata": {},
   "outputs": [],
   "source": [
    "csv_combined.to_csv(\"../corpora/final_data.csv\", index=False)"
   ]
  },
  {
   "cell_type": "code",
   "execution_count": 32,
   "metadata": {},
   "outputs": [
    {
     "data": {
      "text/plain": [
       "28619"
      ]
     },
     "execution_count": 32,
     "metadata": {},
     "output_type": "execute_result"
    }
   ],
   "source": [
    "len(csv_combined)"
   ]
  },
  {
   "cell_type": "code",
   "execution_count": 37,
   "metadata": {},
   "outputs": [],
   "source": [
    "import random"
   ]
  },
  {
   "cell_type": "code",
   "execution_count": 38,
   "metadata": {},
   "outputs": [],
   "source": [
    "train_data = {\"data\": []}\n",
    "test_data = {\"data\": []}\n",
    "data = {}\n",
    "with open(\"../corpora/eng_tok_train.json\", 'w', encoding=\"utf-8\") as f_train, open(\"../corpora/eng_tok_test.json\", 'w', encoding=\"utf-8\") as f_test:\n",
    "    for line in zip(range(28619), csv_combined[\"eng\"], csv_combined[\"tok\"]):\n",
    "        if line[2] != '':\n",
    "            if random.randint(0, 100) < 20:\n",
    "                test_data[\"data\"].append({\"id\": str(line[0]), \"translation\": {'en': line[1], 'tok': line[2]}})\n",
    "            else:\n",
    "                train_data[\"data\"].append({\"id\": str(line[0]), \"translation\": {'en': line[1], 'tok': line[2]}})\n",
    "            \n",
    "        # data[int(line[0])]=json_data\n",
    "    f_train.write(json.dumps(train_data, ensure_ascii=False, indent=4))\n",
    "    f_test.write(json.dumps(test_data, ensure_ascii=False, indent=4))"
   ]
  },
  {
   "cell_type": "code",
   "execution_count": 16,
   "metadata": {},
   "outputs": [
    {
     "data": {
      "text/html": [
       "<div>\n",
       "<style scoped>\n",
       "    .dataframe tbody tr th:only-of-type {\n",
       "        vertical-align: middle;\n",
       "    }\n",
       "\n",
       "    .dataframe tbody tr th {\n",
       "        vertical-align: top;\n",
       "    }\n",
       "\n",
       "    .dataframe thead th {\n",
       "        text-align: right;\n",
       "    }\n",
       "</style>\n",
       "<table border=\"1\" class=\"dataframe\">\n",
       "  <thead>\n",
       "    <tr style=\"text-align: right;\">\n",
       "      <th></th>\n",
       "      <th>id</th>\n",
       "      <th>translation</th>\n",
       "    </tr>\n",
       "  </thead>\n",
       "  <tbody>\n",
       "    <tr>\n",
       "      <th>0</th>\n",
       "      <td>0</td>\n",
       "      <td>{'ca': 'Source: Project GutenbergTranslation: ...</td>\n",
       "    </tr>\n",
       "    <tr>\n",
       "      <th>1</th>\n",
       "      <td>1</td>\n",
       "      <td>{'ca': 'Les Aventures De Tom Sawyer', 'en': 'T...</td>\n",
       "    </tr>\n",
       "    <tr>\n",
       "      <th>2</th>\n",
       "      <td>2</td>\n",
       "      <td>{'ca': 'Mark Twain', 'en': 'Mark Twain'}</td>\n",
       "    </tr>\n",
       "    <tr>\n",
       "      <th>3</th>\n",
       "      <td>3</td>\n",
       "      <td>{'ca': 'PREFACI.', 'en': 'PREFACE'}</td>\n",
       "    </tr>\n",
       "    <tr>\n",
       "      <th>4</th>\n",
       "      <td>4</td>\n",
       "      <td>{'ca': 'La major part de les aventures consign...</td>\n",
       "    </tr>\n",
       "    <tr>\n",
       "      <th>...</th>\n",
       "      <td>...</td>\n",
       "      <td>...</td>\n",
       "    </tr>\n",
       "    <tr>\n",
       "      <th>4600</th>\n",
       "      <td>4600</td>\n",
       "      <td>{'ca': 'Així acaba aquesta cronica.', 'en': 'S...</td>\n",
       "    </tr>\n",
       "    <tr>\n",
       "      <th>4601</th>\n",
       "      <td>4601</td>\n",
       "      <td>{'ca': 'Com que és estrictament la historia d'...</td>\n",
       "    </tr>\n",
       "    <tr>\n",
       "      <th>4602</th>\n",
       "      <td>4602</td>\n",
       "      <td>{'ca': 'Quan hom escriu una novel·la sobre gen...</td>\n",
       "    </tr>\n",
       "    <tr>\n",
       "      <th>4603</th>\n",
       "      <td>4603</td>\n",
       "      <td>{'ca': 'La major part dels personatges que sur...</td>\n",
       "    </tr>\n",
       "    <tr>\n",
       "      <th>4604</th>\n",
       "      <td>4604</td>\n",
       "      <td>{'ca': 'Podra semblar, algun dia, que valgui l...</td>\n",
       "    </tr>\n",
       "  </tbody>\n",
       "</table>\n",
       "<p>4605 rows × 2 columns</p>\n",
       "</div>"
      ],
      "text/plain": [
       "        id                                        translation\n",
       "0        0  {'ca': 'Source: Project GutenbergTranslation: ...\n",
       "1        1  {'ca': 'Les Aventures De Tom Sawyer', 'en': 'T...\n",
       "2        2           {'ca': 'Mark Twain', 'en': 'Mark Twain'}\n",
       "3        3                {'ca': 'PREFACI.', 'en': 'PREFACE'}\n",
       "4        4  {'ca': 'La major part de les aventures consign...\n",
       "...    ...                                                ...\n",
       "4600  4600  {'ca': 'Així acaba aquesta cronica.', 'en': 'S...\n",
       "4601  4601  {'ca': 'Com que és estrictament la historia d'...\n",
       "4602  4602  {'ca': 'Quan hom escriu una novel·la sobre gen...\n",
       "4603  4603  {'ca': 'La major part dels personatges que sur...\n",
       "4604  4604  {'ca': 'Podra semblar, algun dia, que valgui l...\n",
       "\n",
       "[4605 rows x 2 columns]"
      ]
     },
     "execution_count": 16,
     "metadata": {},
     "output_type": "execute_result"
    }
   ],
   "source": [
    "pd.read_parquet(\"../opus_books-train.parquet\")"
   ]
  },
  {
   "cell_type": "code",
   "execution_count": 9,
   "metadata": {},
   "outputs": [],
   "source": [
    "import json\n",
    "import pandas as pd\n",
    "\n",
    "with open(\"eng_tok.json\", encoding=\"utf-8\") as f:\n",
    "    data = json.load(f)['data']\n",
    "\n",
    "english = []\n",
    "tokipona = []\n",
    "\n",
    "for d in data:\n",
    "    english.append(d['translation']['en'])\n",
    "    tokipona.append(d['translation']['tok'])\n",
    "\n",
    "df = pd.DataFrame({'English': english, 'Tokipona': tokipona}, index=[None]*len(english))\n",
    "df.to_csv(\"eng_tok.csv\")"
   ]
  }
 ],
 "metadata": {
  "kernelspec": {
   "display_name": "Python 3",
   "language": "python",
   "name": "python3"
  },
  "language_info": {
   "codemirror_mode": {
    "name": "ipython",
    "version": 3
   },
   "file_extension": ".py",
   "mimetype": "text/x-python",
   "name": "python",
   "nbconvert_exporter": "python",
   "pygments_lexer": "ipython3",
   "version": "3.10.6"
  },
  "orig_nbformat": 4
 },
 "nbformat": 4,
 "nbformat_minor": 2
}
